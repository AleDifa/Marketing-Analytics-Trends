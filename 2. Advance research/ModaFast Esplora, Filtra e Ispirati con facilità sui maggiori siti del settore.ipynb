{
 "cells": [
  {
   "cell_type": "markdown",
   "metadata": {},
   "source": [
    " <h1><center> ModaFast: Esplora, Filtra e Ispirati con facilità sui maggiori siti del settore</center></h1>"
   ]
  },
  {
   "cell_type": "markdown",
   "metadata": {},
   "source": [
    "Il progetto sfrutta il web scraping per raccogliere una vasta gamma di articoli da diverse sezioni di siti di moda. \n",
    "Dai abbigliamento di alta moda alle ultime tendenze streetwear, abbiamo tutto ciò di cui hai bisogno. Ma c'è di più:\n",
    "la nostra funzione di ricerca avanzata ti consente di affinare istantaneamente la selezione.  \n",
    " <br>\n",
    "In questo piccolo progetto cerchiami annunci di case e design interni sui siti di AD ITALIA, AABITARE e LIVING."
   ]
  },
  {
   "cell_type": "code",
   "execution_count": 32,
   "metadata": {},
   "outputs": [
    {
     "name": "stdout",
     "output_type": "stream",
     "text": [
      "inserire una parola tutta in minuscolo da ricerca negli articoli: gucci\n"
     ]
    },
    {
     "data": {
      "text/html": [
       "<style  type=\"text/css\" >\n",
       "</style><table id=\"T_649e8_\" ><thead>    <tr>        <th class=\"blank level0\" ></th>        <th class=\"col_heading level0 col0\" >link</th>    </tr></thead><tbody>\n",
       "                <tr>\n",
       "                        <th id=\"T_649e8_level0_row0\" class=\"row_heading level0 row0\" >12</th>\n",
       "                        <td id=\"T_649e8_row0_col0\" class=\"data row0 col0\" ><a target=\"_blank\" href=\"https://www.ad-italia.it/gallery/capri-cena-ad-100-gucci-nomad-ospiti/\">https://www.ad-italia.it/gallery/capri-cena-ad-100-gucci-nomad-ospiti/</a></td>\n",
       "            </tr>\n",
       "    </tbody></table>"
      ],
      "text/plain": [
       "<pandas.io.formats.style.Styler at 0x13d74f407c0>"
      ]
     },
     "execution_count": 32,
     "metadata": {},
     "output_type": "execute_result"
    }
   ],
   "source": [
    "##### concatenate all df with np (more fast)\n",
    "dataframe = pd.DataFrame( np.concatenate( (\n",
    "                                    df_ad_news.values,\n",
    "                                    df_ad_case.values,\n",
    "                                    df_ad_desgin_arch.values,\n",
    "                                    df_abitare_architettura.values,\n",
    "                                    df_abitare_design.values,\n",
    "                                    df_abitare_habitat.values,\n",
    "                                    df_living_case.values,\n",
    "                                    df_living_case_atmosfera.values,\n",
    "                                    df_living_case_autore.values,\n",
    "                                    df_living_fs.values,\n",
    "                                    df_living_sm.values\n",
    "                                          ), axis=0 ))\n",
    "\n",
    "dataframe.columns = ['link', 'testo',]\n",
    "dataframe[\"testo\"]= dataframe[\"testo\"].str.replace('©','')\n",
    "dataframe[\"testo\"]= dataframe[\"testo\"].str.replace('\\xa0','')\n",
    "\n",
    "input_ = input(\"inserire una parola tutta in minuscolo da ricerca negli articoli: \")\n",
    "n=dataframe[[input_ in x for x in dataframe['testo']]]\n",
    "n=n.loc[:, n.columns != 'testo']\n",
    "\n",
    "##### make link cliccable \n",
    "def make_clickable(val):\n",
    "\n",
    "    return '<a target=\"_blank\" href=\"{}\">{}</a>'.format(val,val)\n",
    "n.style.format({'link': make_clickable})"
   ]
  },
  {
   "cell_type": "code",
   "execution_count": null,
   "metadata": {},
   "outputs": [],
   "source": []
  }
 ],
 "metadata": {
  "kernelspec": {
   "display_name": "Python 3",
   "language": "python",
   "name": "python3"
  },
  "language_info": {
   "codemirror_mode": {
    "name": "ipython",
    "version": 3
   },
   "file_extension": ".py",
   "mimetype": "text/x-python",
   "name": "python",
   "nbconvert_exporter": "python",
   "pygments_lexer": "ipython3",
   "version": "3.8.1"
  }
 },
 "nbformat": 4,
 "nbformat_minor": 5
}
