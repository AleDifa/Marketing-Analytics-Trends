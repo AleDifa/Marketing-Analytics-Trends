{
 "cells": [
  {
   "cell_type": "markdown",
   "metadata": {},
   "source": [
    "<h1><center> Advance Research inside google News</center></h1>"
   ]
  },
  {
   "cell_type": "code",
   "execution_count": 26,
   "metadata": {},
   "outputs": [
    {
     "name": "stdout",
     "output_type": "stream",
     "text": [
      "per favore digita una o più parole, per più parole al posto dello spazio inserie +, come ad esempio design+milano :design milano\n"
     ]
    },
    {
     "data": {
      "application/vnd.jupyter.widget-view+json": {
       "model_id": "bf961f27e3cf4a369d1d5d3d129a0485",
       "version_major": 2,
       "version_minor": 0
      },
      "text/plain": [
       "Accordion(children=(Output(), Output()), _titles={'0': 'Count of Media', '1': 'Sentiment Analysis'})"
      ]
     },
     "metadata": {},
     "output_type": "display_data"
    },
    {
     "data": {
      "text/html": [
       "<style  type=\"text/css\" >\n",
       "</style><table id=\"T_161ff_\" ><thead>    <tr>        <th class=\"blank level0\" ></th>        <th class=\"col_heading level0 col0\" >rating</th>        <th class=\"col_heading level0 col1\" >ore_fa</th>        <th class=\"col_heading level0 col2\" >link</th>        <th class=\"col_heading level0 col3\" >media</th>        <th class=\"col_heading level0 col4\" >summarized text</th>    </tr></thead><tbody>\n",
       "                <tr>\n",
       "                        <th id=\"T_161ff_level0_row0\" class=\"row_heading level0 row0\" >0</th>\n",
       "                        <td id=\"T_161ff_row0_col0\" class=\"data row0 col0\" >positive</td>\n",
       "                        <td id=\"T_161ff_row0_col1\" class=\"data row0 col1\" >1 ora fa</td>\n",
       "                        <td id=\"T_161ff_row0_col2\" class=\"data row0 col2\" ><a href=\"https://www.idealista.it/news/immobiliare/residenziale/2023/08/24/175155-sette-appartamenti-di-lusso-a-milano-per-viaggiare-senza-spostarsi-da-casa\">https://www.idealista.it/news/immobiliare/residenziale/2023/08/24/175155-sette-appartamenti-di-lusso-a-milano-per-viaggiare-senza-spostarsi-da-casa</a></td>\n",
       "                        <td id=\"T_161ff_row0_col3\" class=\"data row0 col3\" >idealista.it/news</td>\n",
       "                        <td id=\"T_161ff_row0_col4\" class=\"data row0 col4\" >il capoluogo siciliano offre un ritmo di vita piu rilassato rispetto alle grandi citta italiane si trova in una posizione strategica per godere al meglio dei tesori siciliani. il ritmo di vita rilassato alta qualita della vita rendono questa citta un alternativa interessante per trasferirsi. dal punto di vista geografico carrara si trova in una posizione privilegiata meta strada fra mare montagne, si trova sulla dorsale tirrenica toscana, esattamente al confine con la liguria.</td>\n",
       "            </tr>\n",
       "            <tr>\n",
       "                        <th id=\"T_161ff_level0_row1\" class=\"row_heading level0 row1\" >1</th>\n",
       "                        <td id=\"T_161ff_row1_col0\" class=\"data row1 col0\" >negative</td>\n",
       "                        <td id=\"T_161ff_row1_col1\" class=\"data row1 col1\" >8 ore fa</td>\n",
       "                        <td id=\"T_161ff_row1_col2\" class=\"data row1 col2\" ><a href=\"https://www.we-wealth.com/news/pleasure-assets/design/marco-guazzini-designer-nuovi-materiali\">https://www.we-wealth.com/news/pleasure-assets/design/marco-guazzini-designer-nuovi-materiali</a></td>\n",
       "                        <td id=\"T_161ff_row1_col3\" class=\"data row1 col3\" >We Wealth</td>\n",
       "                        <td id=\"T_161ff_row1_col4\" class=\"data row1 col4\" >marco guazzini noto per avere ideato realizzato il materiale marwoolus che dal 2016 presente nella collezione permanente del vitra design museum. dopo aver conseguito gli studi in industrial design, guazzini comincia infatti viaggiare trascorrendo diversi anni all estero in svariate citta fra cui new york. guazzini insegna inoltre come professore alla naba, nuova accademia di belle arti milano approccio progettuale di guazzini puo essere definito come un atto ragionato, consapevole, profondo.</td>\n",
       "            </tr>\n",
       "            <tr>\n",
       "                        <th id=\"T_161ff_level0_row2\" class=\"row_heading level0 row2\" >2</th>\n",
       "                        <td id=\"T_161ff_row2_col0\" class=\"data row2 col0\" >positive</td>\n",
       "                        <td id=\"T_161ff_row2_col1\" class=\"data row2 col1\" >Ieri</td>\n",
       "                        <td id=\"T_161ff_row2_col2\" class=\"data row2 col2\" ><a href=\"https://www.comunecervia.it/citta/notizie/notizia/la-pista-del-ghiaccio-circolare-le-luci-liberty-i-sound-design-dopo-il-grande-successo-dellevento-supersummer-milano-marittima-p.html\">https://www.comunecervia.it/citta/notizie/notizia/la-pista-del-ghiaccio-circolare-le-luci-liberty-i-sound-design-dopo-il-grande-successo-dellevento-supersummer-milano-marittima-p.html</a></td>\n",
       "                        <td id=\"T_161ff_row2_col3\" class=\"data row2 col3\" >Comune di Cervia</td>\n",
       "                        <td id=\"T_161ff_row2_col4\" class=\"data row2 col4\" >il sindaco massimo medri assessore agli eventi michela brunelli hanno dichiarato evento supersummer del 19 agosto stato il primo evento del brand mi.ma. insieme al tappeto sonoro di suoni natalizi creati appositamente per occasione, trasformeranno area nell eco christmas lodge dove passeggiare rilassarsi gustare il natale piu emozionante di sempre. ancora viale ravenna viale forli saranno decorate delle mongolfiere luminose il mezzo piu ecologico soprattutto caratteristico del periodo liberty.</td>\n",
       "            </tr>\n",
       "            <tr>\n",
       "                        <th id=\"T_161ff_level0_row3\" class=\"row_heading level0 row3\" >3</th>\n",
       "                        <td id=\"T_161ff_row3_col0\" class=\"data row3 col0\" >neutral</td>\n",
       "                        <td id=\"T_161ff_row3_col1\" class=\"data row3 col1\" >20 giorni fa</td>\n",
       "                        <td id=\"T_161ff_row3_col2\" class=\"data row3 col2\" ><a href=\"https://www.ansa.it/lombardia/notizie/2023/08/03/triennale-milano-al-via-gara-per-ampliare-il-museo-del-design_c9f0993a-6e09-473b-8584-f526bc5fd7ff.html\">https://www.ansa.it/lombardia/notizie/2023/08/03/triennale-milano-al-via-gara-per-ampliare-il-museo-del-design_c9f0993a-6e09-473b-8584-f526bc5fd7ff.html</a></td>\n",
       "                        <td id=\"T_161ff_row3_col3\" class=\"data row3 col3\" >Agenzia ANSA</td>\n",
       "                        <td id=\"T_161ff_row3_col4\" class=\"data row3 col4\" >se hai scelto di non accettare cookie di profilazione tracciamento, puoi aderire all abbonamento consentless un costo molto accessibile, oppure scegliere un altro abbonamento per accedere ad ansa.it. ti invitiamo leggere le condizioni generali di servizio, la cookie policy informativa privacy. gli interventi messi gara riguardano sia gli spazi interni che quelli esterni puntano un ampliamento rivisitazione della struttura espositiva.</td>\n",
       "            </tr>\n",
       "            <tr>\n",
       "                        <th id=\"T_161ff_level0_row4\" class=\"row_heading level0 row4\" >4</th>\n",
       "                        <td id=\"T_161ff_row4_col0\" class=\"data row4 col0\" >positive</td>\n",
       "                        <td id=\"T_161ff_row4_col1\" class=\"data row4 col1\" >2 giorni fa</td>\n",
       "                        <td id=\"T_161ff_row4_col2\" class=\"data row4 col2\" ><a href=\"https://www.finestresullarte.info/opere-e-artisti/letto-nathalie-vico-magistretti-storia-icona-arredamento-design\">https://www.finestresullarte.info/opere-e-artisti/letto-nathalie-vico-magistretti-storia-icona-arredamento-design</a></td>\n",
       "                        <td id=\"T_161ff_row4_col3\" class=\"data row4 col3\" >\"Finestre sullArte\"</td>\n",
       "                        <td id=\"T_161ff_row4_col4\" class=\"data row4 col4\" >nathalie diventa infatti il simbolo di un attenzione all aspetto piu profondo del riposo il letto non solo come oggetto di arredamento, ma anche strumento di benessere. egli sostiene infatti che la nascita dell italian design deve moltissimo al colloquio stretto tra la produzione chi progetta nato dai produttori che volevano cambiare, crescere, evolvere. le parole in apertura sono proprio di magistretti, architetto designer milanese di nascita, considerato uno dei padri del design italiano.</td>\n",
       "            </tr>\n",
       "            <tr>\n",
       "                        <th id=\"T_161ff_level0_row5\" class=\"row_heading level0 row5\" >5</th>\n",
       "                        <td id=\"T_161ff_row5_col0\" class=\"data row5 col0\" >positive</td>\n",
       "                        <td id=\"T_161ff_row5_col1\" class=\"data row5 col1\" >20 ore fa</td>\n",
       "                        <td id=\"T_161ff_row5_col2\" class=\"data row5 col2\" ><a href=\"https://www.gazzettadimilano.it/economia/design-e-architettura/hines-porta-torre-velasca-al-rimini-meeting-2023/\">https://www.gazzettadimilano.it/economia/design-e-architettura/hines-porta-torre-velasca-al-rimini-meeting-2023/</a></td>\n",
       "                        <td id=\"T_161ff_row5_col3\" class=\"data row5 col3\" >gazzettadimilano.it</td>\n",
       "                        <td id=\"T_161ff_row5_col4\" class=\"data row5 col4\" >quest anno lo fa anche attraverso la mostra dal titolo resurgence. il rapporto pubblico privato un tema prioritario per hines. privacy policy cookies policy</td>\n",
       "            </tr>\n",
       "            <tr>\n",
       "                        <th id=\"T_161ff_level0_row6\" class=\"row_heading level0 row6\" >6</th>\n",
       "                        <td id=\"T_161ff_row6_col0\" class=\"data row6 col0\" >neutral</td>\n",
       "                        <td id=\"T_161ff_row6_col1\" class=\"data row6 col1\" >17 giorni fa</td>\n",
       "                        <td id=\"T_161ff_row6_col2\" class=\"data row6 col2\" ><a href=\"https://www.rainews.it/tgr/lombardia/video/2023/08/guida-pratica-icone-design-milano-strade-musei-triennale--22b0343c-c5a5-4363-a66e-33cdb2357846.html\">https://www.rainews.it/tgr/lombardia/video/2023/08/guida-pratica-icone-design-milano-strade-musei-triennale--22b0343c-c5a5-4363-a66e-33cdb2357846.html</a></td>\n",
       "                        <td id=\"T_161ff_row6_col3\" class=\"data row6 col3\" >TGR Lombardia</td>\n",
       "                        <td id=\"T_161ff_row6_col4\" class=\"data row6 col4\" >grandi firme del design dietro le pensiline atm norman foster nel 2006 cui si ispira nel 2010 roberto peregalli per cestini del centro storico. enzo mari nel 1980 creo il dissuasore meneghino per antonomasia, odiato panettone che nel 1980 vincitore del compasso oro. oscar del design assegnato anche ai tombini disegnati dallo studio iacchetti ragni.</td>\n",
       "            </tr>\n",
       "            <tr>\n",
       "                        <th id=\"T_161ff_level0_row7\" class=\"row_heading level0 row7\" >7</th>\n",
       "                        <td id=\"T_161ff_row7_col0\" class=\"data row7 col0\" >positive</td>\n",
       "                        <td id=\"T_161ff_row7_col1\" class=\"data row7 col1\" >4 ore fa</td>\n",
       "                        <td id=\"T_161ff_row7_col2\" class=\"data row7 col2\" ><a href=\"https://movida.tgcom24.it/2023/08/23/flower-chic-al-jp-pineta-di-milano-marittima/\">https://movida.tgcom24.it/2023/08/23/flower-chic-al-jp-pineta-di-milano-marittima/</a></td>\n",
       "                        <td id=\"T_161ff_row7_col3\" class=\"data row7 col3\" >Movida</td>\n",
       "                        <td id=\"T_161ff_row7_col4\" class=\"data row7 col4\" >ma tutto in versione chic, come nello stile del jp pineta di milano marittima. campi obbligatori sono contrassegnati commento nome email sito web current ye leave this field empty il tuo indirizzo email non sara pubblicato.</td>\n",
       "            </tr>\n",
       "            <tr>\n",
       "                        <th id=\"T_161ff_level0_row8\" class=\"row_heading level0 row8\" >8</th>\n",
       "                        <td id=\"T_161ff_row8_col0\" class=\"data row8 col0\" >positive</td>\n",
       "                        <td id=\"T_161ff_row8_col1\" class=\"data row8 col1\" >Ieri</td>\n",
       "                        <td id=\"T_161ff_row8_col2\" class=\"data row8 col2\" ><a href=\"https://living.corriere.it/design/product-design/cara-davide-designer-intervista/\">https://living.corriere.it/design/product-design/cara-davide-designer-intervista/</a></td>\n",
       "                        <td id=\"T_161ff_row8_col3\" class=\"data row8 col3\" >Living</td>\n",
       "                        <td id=\"T_161ff_row8_col4\" class=\"data row8 col4\" >le schede elettroniche sono un rifiuto altamente pericoloso, spesso spedito nei paesi sottosviluppati, che racchiude una ricchezza estetica incredibile, dove circuiti stampati nel disegno ricordano un po art deco. puoi liberamente conferire, rifiutare revocare il consenso tutti alcuni dei trattamenti facendo click sul pulsante preferenze sempre raggiungibili anche attraverso la nostra cookie policy. davide nel nostro studio siamo io, cara il materiale, perche la materia, che il terzo designer, plasma il nostro pensiero contribuisce in maniera profonda al disegno dell oggetto.</td>\n",
       "            </tr>\n",
       "            <tr>\n",
       "                        <th id=\"T_161ff_level0_row9\" class=\"row_heading level0 row9\" >9</th>\n",
       "                        <td id=\"T_161ff_row9_col0\" class=\"data row9 col0\" >positive</td>\n",
       "                        <td id=\"T_161ff_row9_col1\" class=\"data row9 col1\" >Ieri</td>\n",
       "                        <td id=\"T_161ff_row9_col2\" class=\"data row9 col2\" ><a href=\"https://www.politicamentecorretto.com/2023/08/22/martedi-5-settembre-ore-18-30-triennale-milano-presentazione-del-volume-bestiaria-di-domitilla-dardi-edito-da-24-ore-cultura/\">https://www.politicamentecorretto.com/2023/08/22/martedi-5-settembre-ore-18-30-triennale-milano-presentazione-del-volume-bestiaria-di-domitilla-dardi-edito-da-24-ore-cultura/</a></td>\n",
       "                        <td id=\"T_161ff_row9_col3\" class=\"data row9 col3\" >politicamentecorretto.com</td>\n",
       "                        <td id=\"T_161ff_row9_col4\" class=\"data row9 col4\" >all incontro sara presente autrice interverranno il filosofo scrittore leonardo caffo, il curatore per arte contemporanea public program di triennale milano damiano gulli la curatrice angela rui. 24 ore cultura gestisce inoltre il mudec museo delle culture di milano progettato da david chipperfield, un polo interculturale multidisciplinare dedicato alle culture dei cinque continenti. domitilla dardi storica curatrice di design, dal 2010 curatore per il design del maxxi di roma dal 2022 ne diventata senior curator.</td>\n",
       "            </tr>\n",
       "    </tbody></table>"
      ],
      "text/plain": [
       "<pandas.io.formats.style.Styler at 0x1e9493e78b0>"
      ]
     },
     "execution_count": 26,
     "metadata": {},
     "output_type": "execute_result"
    }
   ],
   "source": [
    "'''\n",
    "This project allows us to search all major news from multiple sources within google news by topic.\n",
    "as output we will have summary graphs and a table where the news is reported with a summary of the news and its polarity (positive, negative)\n",
    "'''"
   ]
  },
  {
   "cell_type": "code",
   "execution_count": null,
   "metadata": {},
   "outputs": [],
   "source": []
  }
 ],
 "metadata": {
  "kernelspec": {
   "display_name": "Python 3",
   "language": "python",
   "name": "python3"
  },
  "language_info": {
   "codemirror_mode": {
    "name": "ipython",
    "version": 3
   },
   "file_extension": ".py",
   "mimetype": "text/x-python",
   "name": "python",
   "nbconvert_exporter": "python",
   "pygments_lexer": "ipython3",
   "version": "3.8.1"
  }
 },
 "nbformat": 4,
 "nbformat_minor": 5
}
